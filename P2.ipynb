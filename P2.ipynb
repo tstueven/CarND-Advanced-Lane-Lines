{
 "cells": [
  {
   "cell_type": "code",
   "execution_count": null,
   "metadata": {},
   "outputs": [],
   "source": [
    "%load_ext autoreload\n",
    "%autoreload 2\n",
    "import cv2\n",
    "import numpy as np\n",
    "import matplotlib.pyplot as plt\n",
    "import matplotlib.image as mpimg\n",
    "from lane_lines.calibration import load_calibration\n",
    "from lane_lines.Image_Processor import Image_Processor\n",
    "from lane_lines.Line import Line\n",
    "\n",
    "# Import everything needed to edit/save/watch video clips\n",
    "from moviepy.editor import VideoFileClip\n",
    "from IPython.display import HTML\n",
    "\n",
    "cam_matrix, dist_coeff = load_calibration('camera_cal')\n",
    "\n",
    "src = np.float32([[238, 688] , [1071, 688] ,[595, 449],[687, 449]])\n",
    "dst = np.float32([[280, 720] , [1000, 720] ,[280, 0],[1000, 0]])\n",
    "M = cv2.getPerspectiveTransform(src, dst)\n",
    "M_inv = cv2.getPerspectiveTransform(dst, src)\n",
    "image_processor = Image_Processor(cam_matrix, dist_coeff, M, M_inv)\n"
   ]
  },
  {
   "cell_type": "code",
   "execution_count": null,
   "metadata": {},
   "outputs": [],
   "source": [
    "video_output = 'output_videos/project_video.mp4'\n",
    "clip1 = VideoFileClip(\"project_video.mp4\")\n",
    "white_clip = clip1.fl_image(image_processor.process_image) #NOTE: this function expects color images!!\n",
    "%time white_clip.write_videofile(video_output, audio=False)"
   ]
  },
  {
   "cell_type": "markdown",
   "metadata": {},
   "source": [
    "## Undistort Image"
   ]
  },
  {
   "cell_type": "code",
   "execution_count": null,
   "metadata": {},
   "outputs": [],
   "source": [
    "image_processor.new_image(mpimg.imread('test_images/test1.jpg'))\n",
    "image_processor.undistort()\n",
    "\n",
    "img_undist = image_processor.img_undist#cv2.undistort(img_orig, cam_matrix, dist_coeff, None, cam_matrix)    \n",
    "                   \n",
    "f, (ax1, ax2) = plt.subplots(1, 2, figsize=(24, 9))\n",
    "f.tight_layout()\n",
    "ax1.imshow(image_processor.img_orig)#,cmap='gray')\n",
    "ax1.set_title('Original Image', fontsize=50)\n",
    "ax2.imshow(img_undist, cmap='gray')\n",
    "ax2.set_title('Undistorted Image', fontsize=50)\n",
    "# plt.subplots_adjust(left=0., right=1, top=0.9, bottom=0.)\n",
    "plt.savefig('output_images/test1_undist.jpg')"
   ]
  },
  {
   "cell_type": "markdown",
   "metadata": {},
   "source": [
    "## Thresholding"
   ]
  },
  {
   "cell_type": "code",
   "execution_count": null,
   "metadata": {},
   "outputs": [],
   "source": [
    "image_processor.calc_abs_gradient_binary(kernel_sizes=(3,7,11), thresh=(60, 150))\n",
    "image_processor.calc_dir_gradient_binary(kernel_sizes=(3,7,11), thresh=(30, 60), degrees=True)\n",
    "image_processor.calc_hls_thresh_binary(channel='s', thresh=(170, 255))\n",
    "image_processor.calc_combined_binary()\n",
    "# Plot the result\n",
    "f, ((ax1, ax2), (ax3, ax4)) = plt.subplots(2, 2, figsize=(24, 18))\n",
    "f.tight_layout()\n",
    "ax1.imshow(image_processor.img_undist)\n",
    "ax1.set_title('Input Image', fontsize=50)\n",
    "ax2.imshow(image_processor.abs_gradient_binary * image_processor.dir_gradient_binary, cmap='gray')\n",
    "ax2.set_title('Thresholded Gradient', fontsize=50)\n",
    "ax3.imshow(image_processor.hls_thresh_binary, cmap='gray')\n",
    "ax3.set_title('Thresholded s Channel', fontsize=50)\n",
    "ax4.imshow(image_processor.color_binary())#, cmap='gray')\n",
    "ax4.set_title('Stacked Threshold', fontsize=50)\n",
    "# plt.subplots_adjust(left=0., right=1, top=0.9, bottom=0.)\n",
    "plt.savefig('output_images/test1_binary_combo_example.jpg')"
   ]
  },
  {
   "cell_type": "markdown",
   "metadata": {},
   "source": [
    "## Perspective Transform"
   ]
  },
  {
   "cell_type": "code",
   "execution_count": null,
   "metadata": {},
   "outputs": [],
   "source": [
    "src = np.float32([[238, 688] , [1071, 688] ,[595, 449],[687, 449]])\n",
    "dst = np.float32([[280, 720] , [1000, 720] ,[280, 0],[1000, 0]])\n",
    "M = cv2.getPerspectiveTransform(src, dst)\n",
    "M_inv = cv2.getPerspectiveTransform(dst, src)\n",
    "image_processor2 = Image_Processor(cam_matrix, dist_coeff, M, M_inv)\n",
    "image_processor2.new_image(mpimg.imread('test_images/straight_lines1.jpg'))\n",
    "image_processor2.undistort()\n",
    "warped = image_processor2.get_warped_perspective_img_undist()\n",
    "\n",
    "f, (ax1, ax2) = plt.subplots(1, 2, figsize=(24, 9))\n",
    "f.tight_layout()\n",
    "ax1.imshow(image_processor2.img_undist)#, cmap='gray')\n",
    "ax1.set_title('Original  Image', fontsize=50)\n",
    "ax1.plot([src[0][0], src[1][0]], [src[0][1], src[1][1]], color='red')\n",
    "ax1.plot([src[1][0], src[3][0]], [src[1][1], src[3][1]], color='red')\n",
    "ax1.plot([src[3][0], src[2][0]], [src[3][1], src[2][1]], color='red')\n",
    "ax1.plot([src[0][0], src[2][0]], [src[0][1], src[2][1]], color='red')\n",
    "ax2.imshow(warped)#, cmap='gray')\n",
    "ax2.set_title('Warped Image', fontsize=50)\n",
    "ax2.axvline(280, color='red')\n",
    "ax2.axvline(310, color='red')\n",
    "ax2.axvline(970, color='red')\n",
    "ax2.axvline(1000, color='red')\n",
    "plt.savefig('output_images/straight_lines1_warped_example.jpg')"
   ]
  },
  {
   "cell_type": "code",
   "execution_count": null,
   "metadata": {},
   "outputs": [],
   "source": [
    "image_processor.warp_perspective_binary()\n",
    "img_sliding_window = image_processor.find_lane_pixels_sliding_window(return_image=True)\n",
    "y_values = np.linspace(0,720, 721)\n",
    "x1_sl = image_processor.line_left.get_poly_pixel_x_values(y_values)\n",
    "x2_sl = image_processor.line_right.get_poly_pixel_x_values(y_values)\n",
    "img_poly = image_processor.find_lane_pixels_poly(return_image=True)\n",
    "x1_poly = image_processor.line_left.get_poly_pixel_x_values(y_values)\n",
    "x2_poly = image_processor.line_right.get_poly_pixel_x_values(y_values)\n",
    "\n",
    "f, (ax1, ax2) = plt.subplots(1, 2, figsize=(24, 9))\n",
    "f.tight_layout()\n",
    "ax1.imshow(img_sliding_window, cmap='gray')\n",
    "ax1.plot(x1_sl, y_values)\n",
    "ax1.plot(x2_sl, y_values)\n",
    "ax1.set_title('Sliding Window', fontsize=50)\n",
    "ax2.imshow(img_poly, cmap='gray')\n",
    "ax2.plot(x1_poly, y_values)\n",
    "ax2.plot(x2_poly, y_values)\n",
    "ax2.set_title('Look Ahead', fontsize=50)\n",
    "plt.savefig('output_images/lane_line_identification.jpg')\n",
    "\n",
    "print(image_processor.line_left.measure_curvature_real())\n",
    "print(image_processor.line_right.measure_curvature_real())"
   ]
  },
  {
   "cell_type": "code",
   "execution_count": null,
   "metadata": {},
   "outputs": [],
   "source": [
    "image_processor.find_lane_line_pixels()\n",
    "plt.figure(num=None, figsize=(12, 9))\n",
    "plt.imshow(image_processor.draw_lane())\n",
    "plt.savefig('output_images/example_output.jpg')"
   ]
  },
  {
   "cell_type": "code",
   "execution_count": null,
   "metadata": {},
   "outputs": [],
   "source": []
  },
  {
   "cell_type": "code",
   "execution_count": null,
   "metadata": {},
   "outputs": [],
   "source": []
  },
  {
   "cell_type": "code",
   "execution_count": null,
   "metadata": {},
   "outputs": [],
   "source": []
  },
  {
   "cell_type": "code",
   "execution_count": null,
   "metadata": {},
   "outputs": [],
   "source": []
  },
  {
   "cell_type": "code",
   "execution_count": null,
   "metadata": {},
   "outputs": [],
   "source": []
  }
 ],
 "metadata": {
  "kernelspec": {
   "display_name": "Python 3",
   "language": "python",
   "name": "python3"
  },
  "language_info": {
   "codemirror_mode": {
    "name": "ipython",
    "version": 3
   },
   "file_extension": ".py",
   "mimetype": "text/x-python",
   "name": "python",
   "nbconvert_exporter": "python",
   "pygments_lexer": "ipython3",
   "version": "3.6.3"
  }
 },
 "nbformat": 4,
 "nbformat_minor": 4
}
